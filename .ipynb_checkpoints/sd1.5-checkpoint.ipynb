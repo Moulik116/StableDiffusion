{
 "cells": [
  {
   "cell_type": "code",
   "execution_count": 1,
   "id": "cf95db0c-11bf-482a-9a1e-59fbe21e03d6",
   "metadata": {},
   "outputs": [
    {
     "data": {
      "application/vnd.jupyter.widget-view+json": {
       "model_id": "295f0de6fc3e4ece85a7f34e81a02ec9",
       "version_major": 2,
       "version_minor": 0
      },
      "text/plain": [
       "Loading pipeline components...:   0%|          | 0/7 [00:00<?, ?it/s]"
      ]
     },
     "metadata": {},
     "output_type": "display_data"
    }
   ],
   "source": [
    "from diffusers import StableDiffusionPipeline\n",
    "import torch\n",
    "import matplotlib.pyplot as plt\n",
    "\n",
    "# Load the pipeline (make sure you have internet the first time)\n",
    "pipe = StableDiffusionPipeline.from_pretrained(\n",
    "    \"runwayml/stable-diffusion-v1-5\", \n",
    "    torch_dtype=torch.float32, # change to float 16 if vram is limited\n",
    ").to(\"cuda\")"
   ]
  },
  {
   "cell_type": "code",
   "execution_count": null,
   "id": "d7dfb6f5-fe05-49b9-ace5-a70e07a06d0d",
   "metadata": {},
   "outputs": [
    {
     "data": {
      "application/vnd.jupyter.widget-view+json": {
       "model_id": "2e9e25fa5d004f849660f9d38e74f273",
       "version_major": 2,
       "version_minor": 0
      },
      "text/plain": [
       "  0%|          | 0/50 [00:00<?, ?it/s]"
      ]
     },
     "metadata": {},
     "output_type": "display_data"
    }
   ],
   "source": [
    "# Set the number of images you want to generate\n",
    "num_images = 4\n",
    "\n",
    "# Define the prompt\n",
    "prompt = \"a black bmw m5,front view\"\n",
    "\n",
    "# Generate multiple images\n",
    "images = []\n",
    "for _ in range(num_images):\n",
    "    result = pipe(prompt)\n",
    "    images.append(result.images[0])\n",
    "\n",
    "# Plot the images in a grid\n",
    "cols = 2\n",
    "rows = (num_images + cols - 1) // cols  # Calculate number of rows needed\n",
    "\n",
    "plt.figure(figsize=(8, 4 * rows))\n",
    "for idx, img in enumerate(images):\n",
    "    plt.subplot(rows, cols, idx + 1)\n",
    "    plt.imshow(img)\n",
    "    plt.axis(\"off\")\n",
    "    plt.title(f\"Image {idx + 1}\")\n",
    "\n",
    "plt.tight_layout()\n",
    "plt.show()\n"
   ]
  },
  {
   "cell_type": "code",
   "execution_count": null,
   "id": "ca47b5c5-7c96-4bd4-819f-769f522ab943",
   "metadata": {},
   "outputs": [],
   "source": []
  }
 ],
 "metadata": {
  "kernelspec": {
   "display_name": "Python 3 (ipykernel)",
   "language": "python",
   "name": "python3"
  },
  "language_info": {
   "codemirror_mode": {
    "name": "ipython",
    "version": 3
   },
   "file_extension": ".py",
   "mimetype": "text/x-python",
   "name": "python",
   "nbconvert_exporter": "python",
   "pygments_lexer": "ipython3",
   "version": "3.9.23"
  }
 },
 "nbformat": 4,
 "nbformat_minor": 5
}
